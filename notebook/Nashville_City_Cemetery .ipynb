{
 "cells": [
  {
   "cell_type": "code",
   "execution_count": 10,
   "id": "4e7e2603",
   "metadata": {},
   "outputs": [],
   "source": [
    "import pandas as pd\n",
    "import numpy as np\n",
    "import matplotlib.pyplot as plt\n",
    "import seaborn as sns"
   ]
  },
  {
   "cell_type": "markdown",
   "id": "e1d694e4",
   "metadata": {},
   "source": [
    "1. Read the City Cemetery data into a pandas DataFrame. Hint: see the read_excel function."
   ]
  },
  {
   "cell_type": "code",
   "execution_count": 11,
   "id": "238b8506",
   "metadata": {
    "scrolled": true
   },
   "outputs": [
    {
     "name": "stdout",
     "output_type": "stream",
     "text": [
      "       Volume                           Name Burial Month  Month No.  \\\n",
      "0          6B                Bell, Nancy Ann          Aug        8.0   \n",
      "1          6W  Drake, Mary Edith Smith, Mrs.          May        5.0   \n",
      "2          6D                  Davis, Bessie          Sep        9.0   \n",
      "3          6C            Creech, Emily Green          Aug        8.0   \n",
      "4          6W            Creech, Emily Green          Aug        8.0   \n",
      "...       ...                            ...          ...        ...   \n",
      "19740  4-1846            Kingsley, A., Capt.          Sep        9.0   \n",
      "19741  4-1846                         infant          Sep        9.0   \n",
      "19742  4-1846                 White, Lucinda          Sep        9.0   \n",
      "19743  5-1881               Higgins, Rebecca          Apr        4.0   \n",
      "19744  5-1881                       Eves, R.          Apr        4.0   \n",
      "\n",
      "       Burial Day  Burial Year Sex Race   Age             Residence  \\\n",
      "0             6.0       1979.0   F    W  10.0                   NaN   \n",
      "1            19.0       1979.0   F    W  67.0         Madison, Tenn   \n",
      "2            19.0       1979.0   F    W  90.0             Nashville   \n",
      "3             NaN       1978.0   F    W  91.0             Nashville   \n",
      "4             NaN       1978.0   F    W  91.0  Nashville, Tennessee   \n",
      "...           ...          ...  ..  ...   ...                   ...   \n",
      "19740        28.0       1846.0   M    W  67.0                  City   \n",
      "19741        28.0       1846.0   M    W   NaN                  City   \n",
      "19742        29.0       1846.0   F    W  25.0                  City   \n",
      "19743        10.0          NaN   F    W  68.0                  City   \n",
      "19744        25.0          NaN   M   W.  54.0                  City   \n",
      "\n",
      "      Cause of Death/Burial               Ave             Section/Lot  \\\n",
      "0                       NaN               Oak      sec. 28 NW, lot 12   \n",
      "1                    Cancer  Locust, Boyd Lot                  lot 10   \n",
      "2                   Old Age            Poplar  McAllister, E25, lot 8   \n",
      "3                       NaN        sect.ion 9                      15   \n",
      "4                       NaN               NaN                     NaN   \n",
      "...                     ...               ...                     ...   \n",
      "19740                Feever             Cedar                     lot   \n",
      "19741             Diarherea           Central                     lot   \n",
      "19742           Consumption           Central                     200   \n",
      "19743         Heart Disease            Cherry                     lot   \n",
      "19744         Heart Disease          Magnolia                     lot   \n",
      "\n",
      "                                                 Remarks  \n",
      "0                                       J. L. Hughes lot  \n",
      "1      wife of Alex M. Drake, Madison Funeral Home Of...  \n",
      "2                                daughter of Helen Davis  \n",
      "3                                               Magnolia  \n",
      "4                                              Malgnolia  \n",
      "...                                                  ...  \n",
      "19740               superintendent of Nashville Cemetery  \n",
      "19741                                son of John Bateman  \n",
      "19742                     Fees to be paid by M. Jennings  \n",
      "19743                             box paid, grave on lot  \n",
      "19744                             box paid, grave on lot  \n",
      "\n",
      "[19745 rows x 14 columns]\n"
     ]
    }
   ],
   "source": [
    "cemetery_df= pd.read_excel(r\"C:\\Users\\antoi\\nss-data-analytics\\Projects\\advanced-pandas-antoinette-anderson\\data\\Historic_Nashville_City_Cemetery_Interments__1846-1979.xlsx\", skiprows=None)\n",
    "print(cemetery_df)"
   ]
  },
  {
   "cell_type": "code",
   "execution_count": 65,
   "id": "35e84efa",
   "metadata": {},
   "outputs": [
    {
     "data": {
      "text/html": [
       "<div>\n",
       "<style scoped>\n",
       "    .dataframe tbody tr th:only-of-type {\n",
       "        vertical-align: middle;\n",
       "    }\n",
       "\n",
       "    .dataframe tbody tr th {\n",
       "        vertical-align: top;\n",
       "    }\n",
       "\n",
       "    .dataframe thead th {\n",
       "        text-align: right;\n",
       "    }\n",
       "</style>\n",
       "<table border=\"1\" class=\"dataframe\">\n",
       "  <thead>\n",
       "    <tr style=\"text-align: right;\">\n",
       "      <th></th>\n",
       "      <th>Volume</th>\n",
       "      <th>Name</th>\n",
       "      <th>Burial Month</th>\n",
       "      <th>Month No.</th>\n",
       "      <th>Burial Day</th>\n",
       "      <th>Burial Year</th>\n",
       "      <th>Sex</th>\n",
       "      <th>Race</th>\n",
       "      <th>Age</th>\n",
       "      <th>Residence</th>\n",
       "      <th>Cause of Death/Burial</th>\n",
       "      <th>Ave</th>\n",
       "      <th>Section/Lot</th>\n",
       "      <th>Remarks</th>\n",
       "    </tr>\n",
       "  </thead>\n",
       "  <tbody>\n",
       "    <tr>\n",
       "      <th>0</th>\n",
       "      <td>6B</td>\n",
       "      <td>Bell, Nancy Ann</td>\n",
       "      <td>Aug</td>\n",
       "      <td>8.0</td>\n",
       "      <td>6.0</td>\n",
       "      <td>1979.0</td>\n",
       "      <td>F</td>\n",
       "      <td>W</td>\n",
       "      <td>10.0</td>\n",
       "      <td>NaN</td>\n",
       "      <td>NaN</td>\n",
       "      <td>Oak</td>\n",
       "      <td>sec. 28 NW, lot 12</td>\n",
       "      <td>J. L. Hughes lot</td>\n",
       "    </tr>\n",
       "    <tr>\n",
       "      <th>1</th>\n",
       "      <td>6W</td>\n",
       "      <td>Drake, Mary Edith Smith, Mrs.</td>\n",
       "      <td>May</td>\n",
       "      <td>5.0</td>\n",
       "      <td>19.0</td>\n",
       "      <td>1979.0</td>\n",
       "      <td>F</td>\n",
       "      <td>W</td>\n",
       "      <td>67.0</td>\n",
       "      <td>Madison, Tenn</td>\n",
       "      <td>Cancer</td>\n",
       "      <td>Locust, Boyd Lot</td>\n",
       "      <td>lot 10</td>\n",
       "      <td>wife of Alex M. Drake, Madison Funeral Home Of...</td>\n",
       "    </tr>\n",
       "    <tr>\n",
       "      <th>2</th>\n",
       "      <td>6D</td>\n",
       "      <td>Davis, Bessie</td>\n",
       "      <td>Sep</td>\n",
       "      <td>9.0</td>\n",
       "      <td>19.0</td>\n",
       "      <td>1979.0</td>\n",
       "      <td>F</td>\n",
       "      <td>W</td>\n",
       "      <td>90.0</td>\n",
       "      <td>Nashville</td>\n",
       "      <td>Old Age</td>\n",
       "      <td>Poplar</td>\n",
       "      <td>McAllister, E25, lot 8</td>\n",
       "      <td>daughter of Helen Davis</td>\n",
       "    </tr>\n",
       "    <tr>\n",
       "      <th>3</th>\n",
       "      <td>6C</td>\n",
       "      <td>Creech, Emily Green</td>\n",
       "      <td>Aug</td>\n",
       "      <td>8.0</td>\n",
       "      <td>NaN</td>\n",
       "      <td>1978.0</td>\n",
       "      <td>F</td>\n",
       "      <td>W</td>\n",
       "      <td>91.0</td>\n",
       "      <td>Nashville</td>\n",
       "      <td>NaN</td>\n",
       "      <td>sect.ion 9</td>\n",
       "      <td>15</td>\n",
       "      <td>Magnolia</td>\n",
       "    </tr>\n",
       "    <tr>\n",
       "      <th>4</th>\n",
       "      <td>6W</td>\n",
       "      <td>Creech, Emily Green</td>\n",
       "      <td>Aug</td>\n",
       "      <td>8.0</td>\n",
       "      <td>NaN</td>\n",
       "      <td>1978.0</td>\n",
       "      <td>F</td>\n",
       "      <td>W</td>\n",
       "      <td>91.0</td>\n",
       "      <td>Nashville, Tennessee</td>\n",
       "      <td>NaN</td>\n",
       "      <td>NaN</td>\n",
       "      <td>NaN</td>\n",
       "      <td>Malgnolia</td>\n",
       "    </tr>\n",
       "  </tbody>\n",
       "</table>\n",
       "</div>"
      ],
      "text/plain": [
       "  Volume                           Name Burial Month  Month No.  Burial Day  \\\n",
       "0     6B                Bell, Nancy Ann          Aug        8.0         6.0   \n",
       "1     6W  Drake, Mary Edith Smith, Mrs.          May        5.0        19.0   \n",
       "2     6D                  Davis, Bessie          Sep        9.0        19.0   \n",
       "3     6C            Creech, Emily Green          Aug        8.0         NaN   \n",
       "4     6W            Creech, Emily Green          Aug        8.0         NaN   \n",
       "\n",
       "   Burial Year Sex Race   Age             Residence Cause of Death/Burial  \\\n",
       "0       1979.0   F    W  10.0                   NaN                   NaN   \n",
       "1       1979.0   F    W  67.0         Madison, Tenn                Cancer   \n",
       "2       1979.0   F    W  90.0             Nashville               Old Age   \n",
       "3       1978.0   F    W  91.0             Nashville                   NaN   \n",
       "4       1978.0   F    W  91.0  Nashville, Tennessee                   NaN   \n",
       "\n",
       "                Ave             Section/Lot  \\\n",
       "0               Oak      sec. 28 NW, lot 12   \n",
       "1  Locust, Boyd Lot                  lot 10   \n",
       "2            Poplar  McAllister, E25, lot 8   \n",
       "3        sect.ion 9                      15   \n",
       "4               NaN                     NaN   \n",
       "\n",
       "                                             Remarks  \n",
       "0                                   J. L. Hughes lot  \n",
       "1  wife of Alex M. Drake, Madison Funeral Home Of...  \n",
       "2                            daughter of Helen Davis  \n",
       "3                                           Magnolia  \n",
       "4                                          Malgnolia  "
      ]
     },
     "execution_count": 65,
     "metadata": {},
     "output_type": "execute_result"
    }
   ],
   "source": [
    "cemetery_df.head()"
   ]
  },
  {
   "cell_type": "code",
   "execution_count": 66,
   "id": "f763893b",
   "metadata": {
    "scrolled": true
   },
   "outputs": [
    {
     "data": {
      "text/html": [
       "<div>\n",
       "<style scoped>\n",
       "    .dataframe tbody tr th:only-of-type {\n",
       "        vertical-align: middle;\n",
       "    }\n",
       "\n",
       "    .dataframe tbody tr th {\n",
       "        vertical-align: top;\n",
       "    }\n",
       "\n",
       "    .dataframe thead th {\n",
       "        text-align: right;\n",
       "    }\n",
       "</style>\n",
       "<table border=\"1\" class=\"dataframe\">\n",
       "  <thead>\n",
       "    <tr style=\"text-align: right;\">\n",
       "      <th></th>\n",
       "      <th>Volume</th>\n",
       "      <th>Name</th>\n",
       "      <th>Burial Month</th>\n",
       "      <th>Month No.</th>\n",
       "      <th>Burial Day</th>\n",
       "      <th>Burial Year</th>\n",
       "      <th>Sex</th>\n",
       "      <th>Race</th>\n",
       "      <th>Age</th>\n",
       "      <th>Residence</th>\n",
       "      <th>Cause of Death/Burial</th>\n",
       "      <th>Ave</th>\n",
       "      <th>Section/Lot</th>\n",
       "      <th>Remarks</th>\n",
       "    </tr>\n",
       "  </thead>\n",
       "  <tbody>\n",
       "    <tr>\n",
       "      <th>19740</th>\n",
       "      <td>4-1846</td>\n",
       "      <td>Kingsley, A., Capt.</td>\n",
       "      <td>Sep</td>\n",
       "      <td>9.0</td>\n",
       "      <td>28.0</td>\n",
       "      <td>1846.0</td>\n",
       "      <td>M</td>\n",
       "      <td>W</td>\n",
       "      <td>67.0</td>\n",
       "      <td>City</td>\n",
       "      <td>Feever</td>\n",
       "      <td>Cedar</td>\n",
       "      <td>lot</td>\n",
       "      <td>superintendent of Nashville Cemetery</td>\n",
       "    </tr>\n",
       "    <tr>\n",
       "      <th>19741</th>\n",
       "      <td>4-1846</td>\n",
       "      <td>infant</td>\n",
       "      <td>Sep</td>\n",
       "      <td>9.0</td>\n",
       "      <td>28.0</td>\n",
       "      <td>1846.0</td>\n",
       "      <td>M</td>\n",
       "      <td>W</td>\n",
       "      <td>NaN</td>\n",
       "      <td>City</td>\n",
       "      <td>Diarherea</td>\n",
       "      <td>Central</td>\n",
       "      <td>lot</td>\n",
       "      <td>son of John Bateman</td>\n",
       "    </tr>\n",
       "    <tr>\n",
       "      <th>19742</th>\n",
       "      <td>4-1846</td>\n",
       "      <td>White, Lucinda</td>\n",
       "      <td>Sep</td>\n",
       "      <td>9.0</td>\n",
       "      <td>29.0</td>\n",
       "      <td>1846.0</td>\n",
       "      <td>F</td>\n",
       "      <td>W</td>\n",
       "      <td>25.0</td>\n",
       "      <td>City</td>\n",
       "      <td>Consumption</td>\n",
       "      <td>Central</td>\n",
       "      <td>200</td>\n",
       "      <td>Fees to be paid by M. Jennings</td>\n",
       "    </tr>\n",
       "    <tr>\n",
       "      <th>19743</th>\n",
       "      <td>5-1881</td>\n",
       "      <td>Higgins, Rebecca</td>\n",
       "      <td>Apr</td>\n",
       "      <td>4.0</td>\n",
       "      <td>10.0</td>\n",
       "      <td>NaN</td>\n",
       "      <td>F</td>\n",
       "      <td>W</td>\n",
       "      <td>68.0</td>\n",
       "      <td>City</td>\n",
       "      <td>Heart Disease</td>\n",
       "      <td>Cherry</td>\n",
       "      <td>lot</td>\n",
       "      <td>box paid, grave on lot</td>\n",
       "    </tr>\n",
       "    <tr>\n",
       "      <th>19744</th>\n",
       "      <td>5-1881</td>\n",
       "      <td>Eves, R.</td>\n",
       "      <td>Apr</td>\n",
       "      <td>4.0</td>\n",
       "      <td>25.0</td>\n",
       "      <td>NaN</td>\n",
       "      <td>M</td>\n",
       "      <td>W.</td>\n",
       "      <td>54.0</td>\n",
       "      <td>City</td>\n",
       "      <td>Heart Disease</td>\n",
       "      <td>Magnolia</td>\n",
       "      <td>lot</td>\n",
       "      <td>box paid, grave on lot</td>\n",
       "    </tr>\n",
       "  </tbody>\n",
       "</table>\n",
       "</div>"
      ],
      "text/plain": [
       "       Volume                 Name Burial Month  Month No.  Burial Day  \\\n",
       "19740  4-1846  Kingsley, A., Capt.          Sep        9.0        28.0   \n",
       "19741  4-1846               infant          Sep        9.0        28.0   \n",
       "19742  4-1846       White, Lucinda          Sep        9.0        29.0   \n",
       "19743  5-1881     Higgins, Rebecca          Apr        4.0        10.0   \n",
       "19744  5-1881             Eves, R.          Apr        4.0        25.0   \n",
       "\n",
       "       Burial Year Sex Race   Age Residence Cause of Death/Burial       Ave  \\\n",
       "19740       1846.0   M    W  67.0      City                Feever     Cedar   \n",
       "19741       1846.0   M    W   NaN      City             Diarherea   Central   \n",
       "19742       1846.0   F    W  25.0      City           Consumption   Central   \n",
       "19743          NaN   F    W  68.0      City         Heart Disease    Cherry   \n",
       "19744          NaN   M   W.  54.0      City         Heart Disease  Magnolia   \n",
       "\n",
       "      Section/Lot                               Remarks  \n",
       "19740         lot  superintendent of Nashville Cemetery  \n",
       "19741         lot                   son of John Bateman  \n",
       "19742         200        Fees to be paid by M. Jennings  \n",
       "19743         lot                box paid, grave on lot  \n",
       "19744         lot                box paid, grave on lot  "
      ]
     },
     "execution_count": 66,
     "metadata": {},
     "output_type": "execute_result"
    }
   ],
   "source": [
    "cemetery_df.tail()"
   ]
  },
  {
   "cell_type": "code",
   "execution_count": 83,
   "id": "389d7de3",
   "metadata": {},
   "outputs": [
    {
     "name": "stdout",
     "output_type": "stream",
     "text": [
      "<class 'pandas.core.frame.DataFrame'>\n",
      "RangeIndex: 19745 entries, 0 to 19744\n",
      "Data columns (total 14 columns):\n",
      " #   Column                 Non-Null Count  Dtype  \n",
      "---  ------                 --------------  -----  \n",
      " 0   Volume                 19745 non-null  object \n",
      " 1   Name                   19740 non-null  object \n",
      " 2   Burial Month           19706 non-null  object \n",
      " 3   Month No.              19706 non-null  float64\n",
      " 4   Burial Day             19691 non-null  float64\n",
      " 5   Burial Year            19743 non-null  float64\n",
      " 6   Sex                    19503 non-null  object \n",
      " 7   Race                   19698 non-null  object \n",
      " 8   Age                    11071 non-null  float64\n",
      " 9   Residence              19687 non-null  object \n",
      " 10  Cause of Death/Burial  19428 non-null  object \n",
      " 11  Ave                    19092 non-null  object \n",
      " 12  Section/Lot            18625 non-null  object \n",
      " 13  Remarks                16396 non-null  object \n",
      "dtypes: float64(4), object(10)\n",
      "memory usage: 2.1+ MB\n"
     ]
    }
   ],
   "source": [
    "cemetery_df.info()"
   ]
  },
  {
   "cell_type": "markdown",
   "id": "808b972f",
   "metadata": {},
   "source": [
    "2a. Find the 10 most common (known) recorded causes of death."
   ]
  },
  {
   "cell_type": "code",
   "execution_count": 71,
   "id": "e0ae7468",
   "metadata": {},
   "outputs": [
    {
     "data": {
      "text/plain": [
       "Cause of Death/Burial\n",
       "Consumption     1767\n",
       "Unknown         1260\n",
       "Still Born       841\n",
       "Cholrea          667\n",
       "Not Known        639\n",
       "Old Age          604\n",
       "Cholera          575\n",
       "Pneumonia        516\n",
       "Flux             469\n",
       "Complication     446\n",
       "Name: count, dtype: int64"
      ]
     },
     "execution_count": 71,
     "metadata": {},
     "output_type": "execute_result"
    }
   ],
   "source": [
    "cemetery_df['Cause of Death/Burial'].value_counts().head(10)"
   ]
  },
  {
   "cell_type": "markdown",
   "id": "60b3eb43",
   "metadata": {},
   "source": [
    "2b Clean up some of the misspellings. Use the replace method to clean up some of the causes of death. For example, replace \"Cholrea\" with \"Cholera\" and \"Still Born\" with \"Stillborn\"."
   ]
  },
  {
   "cell_type": "code",
   "execution_count": 89,
   "id": "8f5a0523",
   "metadata": {},
   "outputs": [
    {
     "name": "stdout",
     "output_type": "stream",
     "text": [
      "       Volume                           Name Burial Month  Month No.  \\\n",
      "0          6B                Bell, Nancy Ann          Aug        8.0   \n",
      "1          6W  Drake, Mary Edith Smith, Mrs.          May        5.0   \n",
      "2          6D                  Davis, Bessie          Sep        9.0   \n",
      "3          6C            Creech, Emily Green          Aug        8.0   \n",
      "4          6W            Creech, Emily Green          Aug        8.0   \n",
      "...       ...                            ...          ...        ...   \n",
      "19740  4-1846            Kingsley, A., Capt.          Sep        9.0   \n",
      "19741  4-1846                         infant          Sep        9.0   \n",
      "19742  4-1846                 White, Lucinda          Sep        9.0   \n",
      "19743  5-1881               Higgins, Rebecca          Apr        4.0   \n",
      "19744  5-1881                       Eves, R.          Apr        4.0   \n",
      "\n",
      "       Burial Day  Burial Year Sex Race   Age             Residence  \\\n",
      "0             6.0       1979.0   F    W  10.0                   NaN   \n",
      "1            19.0       1979.0   F    W  67.0         Madison, Tenn   \n",
      "2            19.0       1979.0   F    W  90.0             Nashville   \n",
      "3             NaN       1978.0   F    W  91.0             Nashville   \n",
      "4             NaN       1978.0   F    W  91.0  Nashville, Tennessee   \n",
      "...           ...          ...  ..  ...   ...                   ...   \n",
      "19740        28.0       1846.0   M    W  67.0                  City   \n",
      "19741        28.0       1846.0   M    W   NaN                  City   \n",
      "19742        29.0       1846.0   F    W  25.0                  City   \n",
      "19743        10.0          NaN   F    W  68.0                  City   \n",
      "19744        25.0          NaN   M   W.  54.0                  City   \n",
      "\n",
      "      Cause of Death/Burial               Ave             Section/Lot  \\\n",
      "0                       NaN               Oak      sec. 28 NW, lot 12   \n",
      "1                    Cancer  Locust, Boyd Lot                  lot 10   \n",
      "2                   Old Age            Poplar  McAllister, E25, lot 8   \n",
      "3                       NaN        sect.ion 9                      15   \n",
      "4                       NaN               NaN                     NaN   \n",
      "...                     ...               ...                     ...   \n",
      "19740                 Fever             Cedar                     lot   \n",
      "19741              Diarrhea           Central                     lot   \n",
      "19742           Consumption           Central                     200   \n",
      "19743         Heart Disease            Cherry                     lot   \n",
      "19744         Heart Disease          Magnolia                     lot   \n",
      "\n",
      "                                                 Remarks  \n",
      "0                                       J. L. Hughes lot  \n",
      "1      wife of Alex M. Drake, Madison Funeral Home Of...  \n",
      "2                                daughter of Helen Davis  \n",
      "3                                               Magnolia  \n",
      "4                                              Malgnolia  \n",
      "...                                                  ...  \n",
      "19740               superintendent of Nashville Cemetery  \n",
      "19741                                son of John Bateman  \n",
      "19742                     Fees to be paid by M. Jennings  \n",
      "19743                             box paid, grave on lot  \n",
      "19744                             box paid, grave on lot  \n",
      "\n",
      "[19745 rows x 14 columns]\n"
     ]
    }
   ],
   "source": [
    "cemetery_replace=cemetery_df.replace('Cholrea', 'Cholera').replace('Still Born', 'Stillborn').replace('Feever', 'Fever').replace('Not Known', 'Unknown').replace('Diarherea', 'Diarrhea')\n",
    "print(cemetery_replace)"
   ]
  },
  {
   "cell_type": "markdown",
   "id": "6cad6abb",
   "metadata": {},
   "source": [
    "c. After correcting the spellings, find the 10 most common causes of death and create a bar chart to display your findings."
   ]
  },
  {
   "cell_type": "code",
   "execution_count": 91,
   "id": "b3a160f9",
   "metadata": {},
   "outputs": [
    {
     "data": {
      "text/plain": [
       "Cause of Death/Burial\n",
       "Unknown         1899\n",
       "Consumption     1767\n",
       "Cholera         1242\n",
       "Stillborn        926\n",
       "Old Age          604\n",
       "Pneumonia        516\n",
       "Flux             469\n",
       "Complication     446\n",
       "Cold             421\n",
       "Teething         411\n",
       "Name: count, dtype: int64"
      ]
     },
     "execution_count": 91,
     "metadata": {},
     "output_type": "execute_result"
    }
   ],
   "source": [
    "cemetery_replace['Cause of Death/Burial'].value_counts().head(10)\n"
   ]
  },
  {
   "cell_type": "code",
   "execution_count": 92,
   "id": "6a7bb408",
   "metadata": {},
   "outputs": [
    {
     "data": {
      "text/plain": [
       "<Axes: ylabel='Cause of Death/Burial'>"
      ]
     },
     "execution_count": 92,
     "metadata": {},
     "output_type": "execute_result"
    },
    {
     "data": {
      "image/png": "[encoded data removed]",
      "text/plain": [
       "<Figure size 640x480 with 1 Axes>"
      ]
     },
     "metadata": {},
     "output_type": "display_data"
    }
   ],
   "source": [
    "cemetery_replace['Cause of Death/Burial'].value_counts().head(10).plot(kind='barh')"
   ]
  },
  {
   "cell_type": "markdown",
   "id": "3ca6c8db",
   "metadata": {},
   "source": [
    "3.Create a line chart showing the number of burials per year."
   ]
  },
  {
   "cell_type": "code",
   "execution_count": 13,
   "id": "c0e7c4f0",
   "metadata": {},
   "outputs": [
    {
     "data": {
      "text/plain": [
       "Burial Year\n",
       "1864.0    1372\n",
       "1865.0    1366\n",
       "1866.0    1354\n",
       "1863.0     836\n",
       "1850.0     809\n",
       "1849.0     745\n",
       "1862.0     627\n",
       "1854.0     596\n",
       "1860.0     575\n",
       "1873.0     559\n",
       "1852.0     552\n",
       "1867.0     542\n",
       "1868.0     504\n",
       "1859.0     482\n",
       "1847.0     476\n",
       "1855.0     476\n",
       "1861.0     455\n",
       "1848.0     447\n",
       "1853.0     429\n",
       "1856.0     428\n",
       "1858.0     415\n",
       "1857.0     402\n",
       "1851.0     385\n",
       "1874.0     337\n",
       "1870.0     312\n",
       "1871.0     285\n",
       "1872.0     283\n",
       "1846.0     246\n",
       "1869.0     209\n",
       "1880.0     204\n",
       "1875.0     159\n",
       "1881.0     156\n",
       "1877.0     155\n",
       "1876.0     148\n",
       "1879.0     138\n",
       "1883.0     128\n",
       "1878.0     118\n",
       "1882.0     111\n",
       "1884.0      99\n",
       "1886.0      70\n",
       "Name: count, dtype: int64"
      ]
     },
     "execution_count": 13,
     "metadata": {},
     "output_type": "execute_result"
    }
   ],
   "source": []
  },
  {
   "cell_type": "code",
   "execution_count": null,
   "id": "bf61a676",
   "metadata": {},
   "outputs": [],
   "source": []
  },
  {
   "cell_type": "markdown",
   "id": "18c5f846",
   "metadata": {},
   "source": [
    "4a. Use the crosstab function to build a summary table showing the number of burials per year per month. You should have one row per year and one column for month."
   ]
  },
  {
   "cell_type": "code",
   "execution_count": null,
   "id": "fb28b0f2",
   "metadata": {},
   "outputs": [],
   "source": []
  }
 ],
 "metadata": {
  "kernelspec": {
   "display_name": "Python 3 (ipykernel)",
   "language": "python",
   "name": "python3"
  },
  "language_info": {
   "codemirror_mode": {
    "name": "ipython",
    "version": 3
   },
   "file_extension": ".py",
   "mimetype": "text/x-python",
   "name": "python",
   "nbconvert_exporter": "python",
   "pygments_lexer": "ipython3",
   "version": "3.11.5"
  }
 },
 "nbformat": 4,
 "nbformat_minor": 5
}
